{
 "cells": [
  {
   "cell_type": "markdown",
   "id": "e20b20c6",
   "metadata": {},
   "source": [
    "# imported libraries"
   ]
  },
  {
   "cell_type": "code",
   "execution_count": 54,
   "id": "660d6b8c",
   "metadata": {},
   "outputs": [],
   "source": [
    "from newspaper import Article\n",
    "import numpy as np\n",
    "import nltk\n",
    "import re\n",
    "import tensorflow as tf\n",
    "import tensorflow_hub as hub\n",
    "import numpy as np\n",
    "import pandas as pd\n",
    "from sklearn.metrics import accuracy_score, f1_score\n",
    "from keras.regularizers import l1, l2, l1_l2\n",
    "from keras.models import Sequential\n",
    "from keras.layers import Dense\n",
    "from keras.layers import Dropout\n",
    "from keras import backend\n",
    "from keras import optimizers\n",
    "from keras import layers\n",
    "from keras.callbacks import LearningRateScheduler\n",
    "from tkinter import *"
   ]
  },
  {
   "cell_type": "code",
   "execution_count": 9,
   "id": "77f9e089",
   "metadata": {
    "scrolled": false
   },
   "outputs": [],
   "source": [
    "root=Tk()\n",
    "root.geometry('500x500')\n",
    "root.title('News Bias Classifier and Summarizer')\n",
    "root.rowconfigure(0, weight=1)\n",
    "root.columnconfigure(0, weight=1)\n",
    "root.state('zoomed')\n",
    "\n",
    "url_paste=Frame(root,height=500, width=500, cursor=\"arrow\", bg='gray')\n",
    "L1=Label(url_paste, text=\"Enter url\", font=\"arial 15\", fg=\"red\")\n",
    "L1.place(x=200, y=200)\n",
    "\n",
    "def get_val():\n",
    "    global url\n",
    "    url = E1.get()\n",
    "    root.destroy()\n",
    "\n",
    "global E1 \n",
    "E1=Entry(url_paste, width=40)\n",
    "E1.place(x=300, y=200)\n",
    "\n",
    "B1=Button(url_paste, text=\"find bias\", command=lambda:get_val(), width=20, height=2)\n",
    "B1.place(x=200, y=400)\n",
    "\n",
    "\n",
    "url_paste.grid(row=0, column=0, sticky='nsew')\n",
    "url_paste.columnconfigure(0, weight=1)\n",
    "url_paste.rowconfigure(1, weight=1)\n",
    "root.mainloop()"
   ]
  },
  {
   "cell_type": "code",
   "execution_count": 10,
   "id": "f1a9cd76",
   "metadata": {},
   "outputs": [
    {
     "data": {
      "text/plain": [
       "'https://edition.cnn.com/2022/12/10/politics/kyrsten-sinema-independent-democrats'"
      ]
     },
     "execution_count": 10,
     "metadata": {},
     "output_type": "execute_result"
    }
   ],
   "source": [
    "art = Article(url, 'en')\n",
    "url"
   ]
  },
  {
   "cell_type": "code",
   "execution_count": 11,
   "id": "0cd15c81",
   "metadata": {},
   "outputs": [],
   "source": [
    "art.download()\n",
    "art.parse()"
   ]
  },
  {
   "cell_type": "code",
   "execution_count": 12,
   "id": "54d52ae1",
   "metadata": {},
   "outputs": [
    {
     "data": {
      "text/plain": [
       "['Harry Enten']"
      ]
     },
     "execution_count": 12,
     "metadata": {},
     "output_type": "execute_result"
    }
   ],
   "source": [
    "art.authors"
   ]
  },
  {
   "cell_type": "code",
   "execution_count": 13,
   "id": "b3790b18",
   "metadata": {},
   "outputs": [
    {
     "data": {
      "text/plain": [
       "datetime.datetime(2022, 12, 10, 0, 0)"
      ]
     },
     "execution_count": 13,
     "metadata": {},
     "output_type": "execute_result"
    }
   ],
   "source": [
    "art.publish_date"
   ]
  },
  {
   "cell_type": "code",
   "execution_count": 28,
   "id": "4f9d6ff2",
   "metadata": {},
   "outputs": [
    {
     "data": {
      "text/plain": [
       "'CNN —\\n\\nArizona Sen. Kyrsten Sinema decided to shake up the political world on Friday by becoming an independent. The former Democrat is still caucusing with the party in the Senate, so the Democratic caucus still has 51 members. Now, instead of 49 Democrats and two independents within their ranks, the caucus has 48 Democrats and three independents.\\n\\nBut that simple math hides a more clouded picture for Democrats and for Sinema herself. Sinema’s interests are no longer necessarily the Democrats’ best interests in the next Congress, and the 2024 Senate map became even more complicated for Democrats with Sinema’s decision.\\n\\nTo be clear, Sinema has always been a thorn in the Democrats side during her time in Congress. Over the last two years, Democrats have had to almost always make sure that any bill or nomination had Sinema’s support to have any chance of passing. That’s the math when you have only 50 Senate seats in a 100-seat chamber. A lot of bills and nominations were never voted on without Sinema and Manchin’s backing.\\n\\nFrom 2013 (Sinema’s first term in Congress) to 2020, Sinema voted against her party more than almost any other member of Congress. She stayed with the party about 69% of the time on votes where at least one half of the Democrats voted differently than half of Republicans. The average Democrat voted with their party about 90% of the time on these votes.\\n\\nIt’s quite possible that Sinema’s percentage of sticking with the party will lower now that she is an independent. Consider the example of former Sen. Joe Lieberman. The longtime Democrat won reelection as a third-party candidate in 2006, after losing the Democratic primary to a left-wing challenger (the now fairly moderate Connecticut Gov. Ned Lamont)\\n\\nRelative to the average Senate Democrat, Lieberman voted with the party 10 points less of the time after becoming an independent than he had in his last term as a Democrat. If that happens with Sinema, she’ll become even more conservative than West Virginia’s Joe Manchin (the most conservative member of the Democratic caucus).\\n\\nThis would make sense because the incentive structure is now very different for Sinema. Ahead of a 2024 reelection campaign, she no longer has to worry about winning a Democratic primary. Sinema has to worry about building a coalition of Democrats, independents and Republicans. That is far more difficult to do if you’re seen as too liberal.\\n\\nIndeed, the big reason Sinema became an independent is because it would have been very difficult to win a Democratic primary. Her approval rating among Arizona Democrats in an autumn 2022 CES poll stood at just 25%. A number of Democrats (e.g. Rep. Ruben Gallego and Rep. Greg Stanton) were already lining up to potentially challenge her in a primary.\\n\\nA question now is whether Sinema’s decision to become an independent will dissuade some of those Democrats from running. The idea being that Sinema still caucuses with the Democrats, and Democrats wouldn’t want to split the Democratic vote in a general election allowing a Republican to win in a purple state like Arizona.\\n\\nIt’s an interesting bet from Sinema. After all, Democrats usually don’t run a candidate against independent Sen. Bernie Sanders in Vermont. The Democrats who run against independent Sen. Angus King in Maine have not gained traction in recent elections. Don’t forget the aforementioned Lieberman won as a third-party candidate.\\n\\nThe electoral math structure was and is totally different in these circumstances, however. Sanders wouldn’t attract a left-wing Democratic challenger because he is already so progressive. Lieberman declared his third-party candidacy after the primary, so Republicans didn’t have time to find a well-known challenger. Republicans also knew that Lieberman, who was an ardent supporter of the Iraq War, was probably the best they could hope for in the deeply Democratic state of Connecticut.\\n\\nThis leaves the King example. King, like Sinema, is a moderate from not a deeply blue or red state. There’s just one problem for Sinema in this analogy: King is popular. He had previously won the governorship twice as an independent and has almost always sported high favorables.\\n\\nSinema is not popular at all. The CES poll had her approval rating below her disapproval rating with Democrats, independents and Republicans in Arizona. Sinema’s overall approval stood at 25% to a disapproval rating of 58%. Other polling isn’t nearly as dire for Sinema, but the average of it all has her firmly being more unpopular than popular.\\n\\nPut another way, Sinema’s current numbers are probably not going to scare off many challengers from either the Democratic or Republican side. Additionally, there’s zero reason for Democrats to cede the ground to Sinema because it would keep a Republican from winning. It isn’t clear at all that Sinema can win as an independent.\\n\\nWhat Sinema’s move did accomplish is that it made the electoral math a lot more complicated in Arizona and therefore nationally. Having two people in the race who are going to caucus with the Democratic Party likely makes it more difficult for the Democrats to win.\\n\\nOne potential worrisome example for Democrats in a purple state (at least then) was the 2010 Florida Senate race. Then Republican Gov. Charlie Crist decided to run as an independent after it became clear he wouldn’t beat the more conservative Republican Marco Rubio in a Republican primary. Crist, who said he would caucus with the Democrats, split the Democratic vote with then Rep. Kendrick Meek, and Rubio cruised to a win.\\n\\nI should point out that Democrats certainly have a chance. The 1968 Alaska Senate race, for example, featured two Democrats (Mike Gravel and then Sen. Ernest Gruening as write-in). Gravel won in the state which Republican Richard Nixon carried, too, by a few points.\\n\\nIn 2024, Arizona Republicans could nominate an extreme candidate that flames out. They just lost every major statewide race in 2022 because of who they nominated.\\n\\nDon’t dismiss the possibility too that Sinema could win like Harry Byrd did in the 1970 Virginia Senate election when both parties nominated candidates. Maybe voters will like Sinema’s new independent registration.\\n\\nSinema also could find herself flaming out when running in the general election without a major party backing her like Gruening did in 1968 or then Sen. Jacob Javits in the 1980 New York Senate race.\\n\\nWe just don’t know.\\n\\nAll that said, the Democrats already have a difficult map heading into 2024. Depending on whether the Democrats win the presidency (and have a Democratic vice president who can break Senate ties), they can afford to lose zero to one Senate seats and maintain a majority.\\n\\nThe vast majority, 23 of the 34, senators up for reelection in 2024 caucus with the Democrats. An abnormally large number (7) represent states Republican Donald Trump won at least once. This includes Arizona.\\n\\nWith Sinema’s break from the Democratic party, the road is, if nothing else, curvier for Democrats.'"
      ]
     },
     "execution_count": 28,
     "metadata": {},
     "output_type": "execute_result"
    }
   ],
   "source": [
    "news=art.text\n",
    "news"
   ]
  },
  {
   "cell_type": "code",
   "execution_count": 15,
   "id": "f908b05e",
   "metadata": {},
   "outputs": [],
   "source": [
    "from sentence_transformers import SentenceTransformer"
   ]
  },
  {
   "cell_type": "code",
   "execution_count": 17,
   "id": "52f65e6a",
   "metadata": {},
   "outputs": [],
   "source": [
    "s_model = SentenceTransformer(r\"C:\\Users\\akkud\\Machine Learning Project\\bert_model\")"
   ]
  },
  {
   "cell_type": "code",
   "execution_count": 31,
   "id": "fad3cc7e",
   "metadata": {},
   "outputs": [],
   "source": [
    "news_data=s_model.encode(news)"
   ]
  },
  {
   "cell_type": "markdown",
   "id": "cfabafc9",
   "metadata": {},
   "source": [
    "# embed the news article using universal encoder"
   ]
  },
  {
   "cell_type": "code",
   "execution_count": 33,
   "id": "219e91ad",
   "metadata": {},
   "outputs": [
    {
     "name": "stdout",
     "output_type": "stream",
     "text": [
      "(768,)\n"
     ]
    }
   ],
   "source": [
    "print(news_data.shape)\n",
    "news_data=np.reshape(news_data, (1,-1))"
   ]
  },
  {
   "cell_type": "code",
   "execution_count": 34,
   "id": "5f580465",
   "metadata": {},
   "outputs": [
    {
     "data": {
      "text/plain": [
       "array([[-6.04453444e-01,  2.36399323e-01, -6.64811313e-01,\n",
       "        -7.95824081e-02,  1.26201570e-01, -8.30531955e-01,\n",
       "         4.19678479e-01, -6.02998674e-01, -2.76860297e-01,\n",
       "        -3.36546302e-01,  4.33268368e-01,  2.41024539e-01,\n",
       "         2.41031989e-01, -3.89277898e-02, -1.28261077e+00,\n",
       "         2.38878220e-01,  2.24714965e-01, -5.87052479e-02,\n",
       "        -4.83524054e-02, -7.74259120e-02,  6.38847053e-02,\n",
       "        -8.15779269e-02,  2.37195473e-02,  4.63554680e-01,\n",
       "         7.53658891e-01,  5.35550714e-01, -3.11892301e-01,\n",
       "        -6.59392029e-02, -6.83207333e-01,  2.31067151e-01,\n",
       "        -5.64667881e-01, -3.83372307e-02, -4.90362078e-01,\n",
       "         1.52713358e-01,  6.22927129e-01,  7.02196062e-01,\n",
       "         1.89165175e-01, -3.49001378e-01,  2.79880673e-01,\n",
       "         3.88891041e-01, -2.09539473e-01, -9.34853405e-02,\n",
       "        -2.19796211e-01, -1.11207768e-01, -7.22462177e-01,\n",
       "        -1.54075786e-01,  4.56569314e-01,  1.07360756e+00,\n",
       "         1.00872242e+00, -1.14205599e+00,  4.19094324e-01,\n",
       "         5.47617599e-02,  1.00465262e+00,  4.46793407e-01,\n",
       "        -3.72168660e-01, -1.30374417e-01,  2.77311862e-01,\n",
       "        -8.65258634e-01, -1.01730525e+00, -7.43379235e-01,\n",
       "        -5.94330907e-01,  1.55068338e-01, -5.29296100e-01,\n",
       "        -2.68537223e-01,  2.82873213e-01,  9.18574408e-02,\n",
       "        -1.13995932e-01,  3.79366070e-01, -9.40661490e-01,\n",
       "        -6.07790768e-01, -5.03584445e-01, -7.27762580e-01,\n",
       "        -7.38613009e-01, -3.27369273e-01, -5.82364611e-02,\n",
       "         2.12216750e-02, -2.17170104e-01, -1.43011346e-01,\n",
       "         1.15254331e+00, -9.28673893e-02, -3.73640865e-01,\n",
       "         3.57321084e-01, -2.23047569e-01, -4.83267218e-01,\n",
       "         5.56069672e-01, -2.60765821e-01, -5.00506274e-02,\n",
       "        -7.66002238e-01,  1.49083480e-01, -1.00811400e-01,\n",
       "         3.51067603e-01,  4.63004261e-02,  8.96085262e-01,\n",
       "         2.65132904e-01, -1.36494803e+00, -7.14459956e-01,\n",
       "         7.78680921e-01,  1.25631616e-01, -2.39784285e-01,\n",
       "         3.36516261e-01,  1.96023256e-01, -1.14508472e-01,\n",
       "         4.59673822e-01,  8.97534788e-01, -2.49941498e-01,\n",
       "         1.25165150e-01, -7.66130313e-02, -3.46900344e-01,\n",
       "        -7.07034767e-01,  6.98130131e-01,  9.57763672e-01,\n",
       "         1.13241367e-01, -2.48017818e-01,  4.48460244e-02,\n",
       "        -7.72522748e-01, -3.62813890e-01, -2.36607105e-01,\n",
       "         2.08556399e-01,  4.14077580e-01, -6.15708530e-04,\n",
       "         4.81593311e-02, -1.09852562e-02,  1.96710929e-01,\n",
       "         3.98956358e-01,  5.68771511e-02, -2.35786542e-01,\n",
       "         2.44600073e-01,  5.87422013e-01, -8.53724480e-01,\n",
       "        -5.73328972e-01,  5.58877707e-01,  6.47508323e-01,\n",
       "         3.12285684e-02, -1.06668904e-01,  7.69414455e-02,\n",
       "         4.95863080e-01,  2.53726467e-02, -2.74617150e-02,\n",
       "         6.96463287e-01, -6.83874369e-01,  7.21071780e-01,\n",
       "        -2.71697015e-01,  9.84648645e-01, -4.35189992e-01,\n",
       "        -8.00398231e-01, -6.27057195e-01,  4.48837698e-01,\n",
       "        -5.69331050e-01,  4.05590147e-01, -3.67850065e-01,\n",
       "         4.27818388e-01, -6.00613467e-03, -5.30937552e-01,\n",
       "         2.39920840e-01,  1.63728803e-01, -6.85704231e-01,\n",
       "        -4.30369407e-01, -9.64344263e-01,  5.23232877e-01,\n",
       "         5.26881158e-01, -4.88635808e-01, -3.04994226e-01,\n",
       "         4.03097197e-02,  4.52642322e-01,  8.00201654e-01,\n",
       "        -5.76637745e-01,  4.35618341e-01, -8.91734958e-02,\n",
       "         4.94121820e-01,  3.33211571e-01, -8.43475580e-01,\n",
       "         9.28334534e-01,  1.68868411e+00,  3.53184462e-01,\n",
       "         1.26806176e+00,  1.83820039e-01,  4.63472567e-02,\n",
       "        -6.98099211e-02, -4.52944636e-01, -3.29773724e-01,\n",
       "        -4.40789342e-01,  1.27538890e-02, -9.56037104e-01,\n",
       "         8.20837617e-01,  6.71122849e-01, -2.28050575e-01,\n",
       "         2.66556859e-01, -4.49167132e-01,  3.05735528e-01,\n",
       "        -6.09333158e-01, -4.58425015e-01,  1.39595401e-02,\n",
       "         3.41986209e-01,  4.90314774e-02, -1.64729536e-01,\n",
       "         9.70852450e-02,  1.21841744e-01,  1.37332714e+00,\n",
       "        -6.88125705e-03, -1.67533189e-01, -6.30483925e-01,\n",
       "         3.37865859e-01,  9.25198197e-02, -6.07454360e-01,\n",
       "        -8.94980058e-02,  5.30914426e-01,  6.05122328e-01,\n",
       "         1.47828341e-01, -1.24365950e+00, -6.66070655e-02,\n",
       "        -4.76180464e-01,  2.10937023e-01,  3.46226424e-01,\n",
       "         4.83603448e-01,  3.22855115e-01,  1.18040830e-01,\n",
       "         2.28679739e-02, -3.46991360e-01,  8.88488054e-01,\n",
       "         7.52433598e-01,  6.14524424e-01,  8.34613025e-01,\n",
       "        -5.47638237e-01,  7.67030895e-01, -3.62082899e-01,\n",
       "         7.50632286e-01,  2.28383616e-01, -7.93701589e-01,\n",
       "        -5.87762475e-01,  1.02023625e+00,  1.45299613e-01,\n",
       "        -1.27740251e-02, -1.14834034e+00, -4.54742573e-02,\n",
       "         6.38206005e-02, -3.43581855e-01, -1.28329861e+00,\n",
       "        -5.57822846e-02,  8.09648871e-01, -8.06003392e-01,\n",
       "         4.79598254e-01,  4.49240282e-02,  5.98298192e-01,\n",
       "         6.37637138e-01, -9.41741243e-02, -2.01183051e-01,\n",
       "         3.46653998e-01, -5.73473692e-01, -1.98167682e-01,\n",
       "        -1.60234481e-01, -6.12664759e-01,  5.03771424e-01,\n",
       "         4.77066040e-01, -1.06241858e+00,  9.52000171e-02,\n",
       "        -2.17090160e-01, -1.38075486e-01,  4.45019603e-01,\n",
       "        -2.30470508e-01, -5.72244897e-02, -2.51239419e-01,\n",
       "         1.93339050e-01, -2.24973872e-01, -4.08159979e-02,\n",
       "        -4.90256965e-01,  5.74190140e-01, -7.01750636e-01,\n",
       "        -1.86032094e-02, -6.37663007e-01, -2.22250670e-01,\n",
       "         3.93450528e-01, -6.94655478e-01, -1.85981914e-01,\n",
       "         6.80454254e-01, -5.95329940e-01, -2.52331883e-01,\n",
       "        -8.80148470e-01,  1.25426471e-01,  3.16177696e-01,\n",
       "        -4.07800615e-01,  3.44918758e-01,  1.97300375e-01,\n",
       "        -3.69932830e-01, -4.18336540e-02, -1.12231493e+00,\n",
       "         6.50725245e-01,  2.47685269e-01, -3.70530844e-01,\n",
       "        -2.80942798e-01,  2.43151262e-01,  8.84761035e-01,\n",
       "        -1.39405265e-01,  2.36924499e-01, -6.88802361e-01,\n",
       "         1.28974076e-02,  4.15654592e-02,  7.12563992e-01,\n",
       "        -6.22973502e-01,  9.48143721e-01,  4.92267400e-01,\n",
       "         2.52431303e-01,  4.18625116e-01, -1.55480087e-01,\n",
       "         3.69478434e-01, -3.68090004e-01, -5.02684891e-01,\n",
       "         5.43640375e-01, -3.71408090e-02, -1.40075374e+00,\n",
       "        -1.41248882e-01, -6.88394547e-01, -5.24569571e-01,\n",
       "         3.54926080e-01,  1.03759634e+00,  2.43179590e-01,\n",
       "        -5.37539840e-01,  1.72412395e-02, -2.59413850e-03,\n",
       "         1.49079382e-01, -6.55409634e-01,  1.57814458e-01,\n",
       "         5.68758547e-02, -7.97593370e-02,  2.32813150e-01,\n",
       "         1.00200129e+00, -5.82668066e-01, -5.88657670e-02,\n",
       "         5.57347298e-01, -1.33274972e-01,  5.09205401e-01,\n",
       "         8.54922771e-01, -7.33769655e-01,  6.10956311e-01,\n",
       "         1.13746107e+00,  5.66402018e-01, -2.59506330e-03,\n",
       "        -7.06502020e-01,  2.97828287e-01, -5.57260871e-01,\n",
       "         1.29682552e-02,  1.07634628e+00, -1.81814432e-01,\n",
       "         2.37956673e-01,  2.45846003e-01, -2.02533796e-01,\n",
       "        -3.93009394e-01, -7.87252635e-02,  9.72567677e-01,\n",
       "        -7.70188093e-01,  2.47836068e-01,  2.08142772e-01,\n",
       "         1.57249123e-01,  1.47557902e+00, -1.64949059e-01,\n",
       "         2.65720114e-02, -2.74193376e-01, -8.33770812e-01,\n",
       "         7.27572262e-01, -3.79290104e-01,  5.63929498e-01,\n",
       "        -6.34468555e-01,  1.08444798e+00, -1.30236700e-01,\n",
       "        -1.12980366e-01,  1.00600034e-01,  7.11898029e-01,\n",
       "        -2.21538037e-01, -2.99157128e-02, -1.13381870e-01,\n",
       "        -2.74730086e-01,  3.80399555e-01,  8.96821856e-01,\n",
       "        -6.86814904e-01, -3.90043229e-01, -1.41430274e-01,\n",
       "        -4.63824511e-01,  1.93236798e-01,  4.30807173e-01,\n",
       "        -6.23205543e-01, -2.75084943e-01,  2.82587737e-01,\n",
       "        -1.57040581e-01,  7.74781942e-01, -5.09775221e-01,\n",
       "         1.52003095e-01, -1.00513071e-01,  1.91940546e-01,\n",
       "         4.84308511e-01,  3.07586610e-01, -9.16826352e-02,\n",
       "        -1.47665180e-02,  4.51445341e-01, -3.28049392e-01,\n",
       "        -2.73057282e-01,  4.05577004e-01,  7.14511991e-01,\n",
       "        -4.56850901e-02, -1.16244346e-01, -2.63485581e-01,\n",
       "        -2.89410174e-01,  4.51741442e-02, -3.86121988e-01,\n",
       "         7.95018613e-01, -2.67025441e-01, -9.95508954e-02,\n",
       "        -9.61187929e-02,  6.13025606e-01, -1.30924970e-01,\n",
       "         1.90264717e-01, -2.38700658e-01, -4.09449458e-01,\n",
       "        -9.06854033e-01,  5.67354321e-01, -6.09229147e-01,\n",
       "         4.82719988e-01,  5.13138771e-01, -5.21440923e-01,\n",
       "        -4.51217234e-01, -9.57837641e-01,  4.29234624e-01,\n",
       "        -1.26527250e-01, -4.24522161e-01,  9.78481710e-01,\n",
       "        -3.63149285e-01,  2.41341427e-01,  1.82185665e-01,\n",
       "        -5.50100207e-01,  1.26329646e-01, -2.99979120e-01,\n",
       "         8.12679827e-02, -8.47802386e-02, -5.18389463e-01,\n",
       "        -9.69564795e-01, -1.87846139e-01, -1.10581979e-01,\n",
       "        -6.65516138e-01,  4.49306995e-01,  1.89345315e-01,\n",
       "         2.75537103e-01, -3.78105521e-01,  1.32170662e-01,\n",
       "        -6.33808970e-01,  8.95024478e-01, -3.75102282e-01,\n",
       "         1.32453531e-01, -2.40136050e-02, -3.73509884e-01,\n",
       "         3.19002748e-01,  2.25752473e-01,  3.64695787e-01,\n",
       "         2.44871050e-01, -1.31307554e+00, -2.39634842e-01,\n",
       "         4.71337914e-01,  1.22550286e-01, -2.35590413e-01,\n",
       "        -4.86939430e-01,  4.34549540e-01, -8.47271383e-01,\n",
       "        -9.23521593e-02,  3.03909212e-01,  2.29165524e-01,\n",
       "         2.23211020e-01,  4.85281736e-01,  8.79662037e-01,\n",
       "         2.71825725e-03,  3.00751120e-01, -7.78650165e-01,\n",
       "        -1.59079060e-01, -2.89834380e-01, -3.43753874e-01,\n",
       "        -1.12837590e-01,  6.88640416e-01,  1.38092840e+00,\n",
       "        -5.00470996e-01, -1.14924490e+00, -6.24411404e-01,\n",
       "         1.88174039e-01, -7.56746292e-01,  1.99506253e-01,\n",
       "        -1.83085978e-01, -4.16283518e-01,  4.35120344e-01,\n",
       "         1.73779428e-01,  4.76601273e-01, -8.05377662e-02,\n",
       "        -8.33758354e-01,  3.43078226e-01, -1.17295340e-01,\n",
       "        -3.46430331e-01, -8.17193747e-01, -4.16964442e-02,\n",
       "        -1.98792517e-01,  5.93722127e-02,  2.89335400e-01,\n",
       "        -5.95192611e-01, -3.19874644e-01,  3.84382010e-01,\n",
       "         8.42817903e-01, -2.30756313e-01,  4.54499722e-01,\n",
       "        -5.02060242e-02,  5.46481073e-01,  5.87360561e-01,\n",
       "         1.06261170e+00, -5.64144671e-01, -2.19496503e-01,\n",
       "        -2.01387376e-01,  9.03705776e-01, -4.18296605e-01,\n",
       "         6.19873628e-02, -1.03072211e-01,  3.43171090e-01,\n",
       "        -2.42197767e-01,  2.12588713e-01,  3.53716433e-01,\n",
       "        -4.26688343e-02, -1.11716434e-01, -2.92945653e-03,\n",
       "         6.10886812e-02,  2.44721845e-01, -4.78420779e-02,\n",
       "         9.37369049e-01,  1.90889642e-01, -1.17449500e-01,\n",
       "        -3.47024441e-01,  3.83048281e-02,  2.78657258e-01,\n",
       "        -1.04777074e+00, -7.26717532e-01, -4.06080559e-02,\n",
       "        -5.51866055e-01,  5.86030126e-01,  2.72999972e-01,\n",
       "        -5.62504709e-01, -1.20221097e-02, -2.75190949e-01,\n",
       "        -6.25355840e-01, -3.97228152e-01, -7.81398177e-01,\n",
       "        -5.67481875e-01,  4.83993948e-01,  6.88161492e-01,\n",
       "        -6.70390353e-02, -5.18634319e-01,  2.78717637e-01,\n",
       "        -8.29379857e-02,  1.44999638e-01, -6.29324198e-01,\n",
       "         5.86471558e-01,  9.25183296e-02, -3.31859052e-01,\n",
       "         8.80496502e-02,  4.41698074e-01, -3.24491978e-01,\n",
       "         4.52137887e-01, -6.55269861e-01, -1.44301802e-01,\n",
       "         2.81222850e-01,  4.92717326e-01,  3.20588738e-01,\n",
       "         9.48119760e-01, -7.02006891e-02, -2.76416272e-01,\n",
       "         3.62922661e-02, -4.15132642e-01, -5.20549238e-01,\n",
       "        -8.48344326e-01, -1.14022279e+00, -9.57932711e-01,\n",
       "         3.11490417e-01, -4.38468844e-01,  7.06793368e-02,\n",
       "         2.72710502e-01, -2.49892592e-01, -7.22690821e-02,\n",
       "         8.45783483e-03, -9.71405745e-01,  1.90954402e-01,\n",
       "         6.28809869e-01, -2.82284647e-01, -1.44443989e-01,\n",
       "        -2.61970937e-01,  4.90522385e-01, -4.76224720e-01,\n",
       "        -1.62137710e-02, -2.05712155e-01,  2.56382614e-01,\n",
       "        -1.98019683e-01, -6.58996701e-01, -7.54015684e-01,\n",
       "        -2.61261582e-01,  4.17649955e-01,  4.52525526e-01,\n",
       "         4.12413746e-01,  6.06978536e-02, -5.94087243e-01,\n",
       "        -2.34779030e-01,  5.29412389e-01, -7.45904863e-01,\n",
       "         3.30466449e-01, -3.38231713e-01, -6.69696927e-01,\n",
       "         6.91245869e-03,  4.80444953e-02,  4.52958256e-01,\n",
       "         5.08788526e-01,  2.65655398e-01, -5.45748174e-01,\n",
       "        -6.76982850e-03,  3.13263297e-01,  1.20290041e-01,\n",
       "        -4.14251715e-01, -4.55255397e-02, -7.13764668e-01,\n",
       "        -3.68055373e-01,  4.59678560e-01, -2.23049700e-01,\n",
       "        -3.30265820e-01, -2.16381043e-01,  7.81480551e-01,\n",
       "         4.18525130e-01, -6.32906556e-02, -6.18862510e-01,\n",
       "         1.14940131e+00, -3.61467928e-01,  6.50110185e-01,\n",
       "        -2.87401825e-01, -6.96537554e-01, -5.13686776e-01,\n",
       "        -3.74633044e-01, -6.60600722e-01, -3.35796267e-01,\n",
       "         7.18541443e-01, -5.47623336e-01,  1.20679295e+00,\n",
       "         2.25135945e-02,  4.28026497e-01, -1.86432540e-01,\n",
       "         1.00558627e+00, -4.67929244e-01,  1.27567744e+00,\n",
       "        -9.37365532e-01, -1.95319399e-01,  9.23802018e-01,\n",
       "        -2.86398739e-01,  4.09048378e-01, -7.58168548e-02,\n",
       "         5.35626292e-01,  7.62820721e-01, -2.07358196e-01,\n",
       "         8.75658631e-01, -1.13677800e-01, -1.86837062e-01,\n",
       "        -5.59465885e-01, -8.09240460e-01, -8.30044568e-01,\n",
       "         4.72664014e-02, -5.22714555e-01,  8.27562988e-01,\n",
       "        -4.17850494e-01, -3.75006676e-01,  1.45212948e-01,\n",
       "        -9.23780352e-02,  2.63529122e-01,  1.72665454e-02,\n",
       "        -6.34377152e-02, -1.43579990e-01,  3.45055640e-01,\n",
       "         4.30429101e-01,  3.13921988e-01, -1.45504996e-01,\n",
       "        -1.25455678e-01, -3.40739876e-01,  7.27332473e-01,\n",
       "         1.01411849e-01, -5.56096435e-01, -2.79212475e-01,\n",
       "        -3.99486780e-01, -8.38704228e-01,  2.84342635e-02,\n",
       "        -1.36542094e+00, -3.41322392e-01, -8.68827105e-01,\n",
       "         6.59552991e-01, -2.30841309e-01, -9.50598300e-01,\n",
       "         5.95050156e-01,  6.39528856e-02, -1.72712952e-01,\n",
       "         7.63196647e-02, -1.93730682e-01, -4.31733489e-01,\n",
       "         9.81263965e-02, -2.02968046e-01,  4.36492786e-02,\n",
       "        -2.83315659e-01,  3.92566383e-01,  6.17143273e-01,\n",
       "         2.19009548e-01, -1.15156901e+00,  1.00045478e+00,\n",
       "        -6.68598771e-01, -6.31265104e-01,  7.46505916e-01,\n",
       "         4.00683880e-01, -4.68907058e-02,  2.40426466e-01,\n",
       "         3.64674330e-01, -6.46971539e-02,  2.88500935e-02,\n",
       "         1.36862302e+00,  8.37950036e-02,  5.21378852e-02,\n",
       "        -8.42956841e-01, -1.00185134e-01,  1.67816311e-01,\n",
       "        -1.58983767e-01, -5.46356380e-01, -2.25655437e-01,\n",
       "        -1.46474227e-01, -4.66003090e-01,  3.45323265e-01,\n",
       "        -4.95255530e-01,  8.65796685e-01, -1.88435674e-01,\n",
       "         2.70988047e-01,  6.21302664e-01, -1.48533344e-01,\n",
       "         7.53984824e-02,  2.76628047e-01, -5.35551608e-01,\n",
       "         3.21440816e-01, -6.49167523e-02,  3.54802281e-01,\n",
       "        -2.69214902e-02,  1.17112793e-01, -4.10331875e-01,\n",
       "        -7.59089231e-01, -1.26549673e+00, -3.01606834e-01,\n",
       "         2.54114747e-01, -3.93956423e-01, -6.14852548e-01,\n",
       "         4.02878374e-01,  6.02022231e-01, -1.49720967e-01,\n",
       "         2.87097275e-01,  4.40213829e-01,  9.49847996e-01,\n",
       "        -3.81797016e-01, -7.21889555e-01,  3.61754686e-01,\n",
       "         1.03956330e+00, -1.90728098e-01,  1.63109779e-01,\n",
       "         3.94355416e-01, -1.20928869e-01, -8.40920568e-01,\n",
       "         3.36785227e-01, -1.19900537e+00, -7.33862162e-01,\n",
       "         3.60774845e-01, -9.55977201e-01, -5.56686241e-03,\n",
       "         6.50008544e-02,  3.49379152e-01,  7.06677362e-02]], dtype=float32)"
      ]
     },
     "execution_count": 34,
     "metadata": {},
     "output_type": "execute_result"
    }
   ],
   "source": [
    "news_data"
   ]
  },
  {
   "cell_type": "code",
   "execution_count": 35,
   "id": "be172528",
   "metadata": {},
   "outputs": [],
   "source": [
    "from keras.models import load_model"
   ]
  },
  {
   "cell_type": "code",
   "execution_count": 36,
   "id": "2a6d30c9",
   "metadata": {},
   "outputs": [],
   "source": [
    "news_model = load_model(r'C:\\Users\\akkud\\Machine Learning Project\\DNN_model')"
   ]
  },
  {
   "cell_type": "code",
   "execution_count": 37,
   "id": "09e1afa0",
   "metadata": {},
   "outputs": [
    {
     "name": "stdout",
     "output_type": "stream",
     "text": [
      "1/1 [==============================] - 0s 46ms/step\n"
     ]
    },
    {
     "data": {
      "text/plain": [
       "1"
      ]
     },
     "execution_count": 37,
     "metadata": {},
     "output_type": "execute_result"
    }
   ],
   "source": [
    "ans = np.argmax(news_model.predict(news_data))\n",
    "ans"
   ]
  },
  {
   "cell_type": "code",
   "execution_count": 38,
   "id": "6d5d2913",
   "metadata": {},
   "outputs": [],
   "source": [
    "if ans==0:\n",
    "    x='News Article is biased towards left side'\n",
    "    \n",
    "if ans==1:\n",
    "    x='News Article is biased towards right side'"
   ]
  },
  {
   "cell_type": "code",
   "execution_count": 39,
   "id": "d7f0f9bd",
   "metadata": {},
   "outputs": [],
   "source": [
    "#functions to preprocess the article\n",
    "def casefolding(sentence):\n",
    "    return sentence.lower()\n",
    "\n",
    "def cleaning(sentence):\n",
    "    return re.sub(r'[^a-z]', ' ', re.sub(\"’\", '', sentence))\n",
    "\n",
    "def tokenization(sentence):\n",
    "    return sentence.split()\n",
    "\n",
    "def sentence_split(paragraph):\n",
    "    return nltk.sent_tokenize(paragraph)\n",
    "\n",
    "def word_freq(data):\n",
    "    w = []\n",
    "    for sentence in data:\n",
    "        for words in sentence:\n",
    "            w.append(words)\n",
    "    bag = list(set(w))\n",
    "    res = {}\n",
    "    for word in bag:\n",
    "        res[word] = w.count(word)\n",
    "    return res\n",
    "\n",
    "def sentence_weight(data):\n",
    "    weights = []\n",
    "    for words in data:\n",
    "        temp = 0\n",
    "        for word in words:\n",
    "            temp += wordfreq[word]\n",
    "        weights.append(temp)\n",
    "    return weights"
   ]
  },
  {
   "cell_type": "code",
   "execution_count": 40,
   "id": "d777bf1c",
   "metadata": {},
   "outputs": [],
   "source": [
    "#create list of sentences from the given article using the function\n",
    "sentence_list = sentence_split(news)\n",
    "data = []\n",
    "for sentence in sentence_list:\n",
    "    data.append(tokenization(cleaning(casefolding(sentence))))\n",
    "data = (list(filter(None, data)))"
   ]
  },
  {
   "cell_type": "code",
   "execution_count": 41,
   "id": "fea44b37",
   "metadata": {},
   "outputs": [],
   "source": [
    "wordfreq = word_freq(data)\n",
    "rank = sentence_weight(data)\n"
   ]
  },
  {
   "cell_type": "code",
   "execution_count": 42,
   "id": "f6ca339b",
   "metadata": {},
   "outputs": [],
   "source": [
    "n = 4\n",
    "result = ''\n",
    "sort_list = np.argsort(rank)[::-1][:n]\n",
    "for i in range(n):\n",
    "    result += '{} '.format(sentence_list[sort_list[i]])"
   ]
  },
  {
   "cell_type": "code",
   "execution_count": 43,
   "id": "ce510018",
   "metadata": {},
   "outputs": [
    {
     "data": {
      "text/plain": [
       "'The idea being that Sinema still caucuses with the Democrats, and Democrats wouldn’t want to split the Democratic vote in a general election allowing a Republican to win in a purple state like Arizona. Ned Lamont)Relative to the average Senate Democrat, Lieberman voted with the party 10 points less of the time after becoming an independent than he had in his last term as a Democrat. Having two people in the race who are going to caucus with the Democratic Party likely makes it more difficult for the Democrats to win. The longtime Democrat won reelection as a third-party candidate in 2006, after losing the Democratic primary to a left-wing challenger (the now fairly moderate Connecticut Gov. '"
      ]
     },
     "execution_count": 43,
     "metadata": {},
     "output_type": "execute_result"
    }
   ],
   "source": [
    "result = result.replace('Advertisement', '')\n",
    "result = result.replace('\\n', '')\n",
    "result"
   ]
  },
  {
   "cell_type": "code",
   "execution_count": 52,
   "id": "7b71b0f4",
   "metadata": {},
   "outputs": [],
   "source": [
    "root=Tk()\n",
    "root.geometry('500x500')\n",
    "root.title('News Bias Classifier and Summarizer')\n",
    "root.rowconfigure(0, weight=1)\n",
    "root.columnconfigure(0, weight=1)\n",
    "root.state('zoomed')\n",
    "T1 = Text(root, height = 500, width = 200, font = 'arial 15', padx=10, pady=10)\n",
    "L2 = Label(root, text=x, font = 'arial 18')\n",
    "b = Button(root, text = \"Exit\", command = lambda:root.destroy(), width=20, height=2, font='arial 15')\n",
    "\n",
    "T1.pack()\n",
    "b.place(x=600, y=500)\n",
    "L2.place(x=550, y=300)\n",
    "T1.insert(END, result)\n",
    "root.mainloop()"
   ]
  },
  {
   "cell_type": "code",
   "execution_count": 55,
   "id": "0e38c58a",
   "metadata": {},
   "outputs": [
    {
     "ename": "MemoryError",
     "evalue": "Unable to allocate 164. MiB for an array with shape (42896640,) and data type float32",
     "output_type": "error",
     "traceback": [
      "\u001b[1;31m---------------------------------------------------------------------------\u001b[0m",
      "\u001b[1;31mMemoryError\u001b[0m                               Traceback (most recent call last)",
      "\u001b[1;32m~\\AppData\\Local\\Temp/ipykernel_6500/2812735812.py\u001b[0m in \u001b[0;36m<module>\u001b[1;34m\u001b[0m\n\u001b[1;32m----> 1\u001b[1;33m \u001b[0mxx\u001b[0m\u001b[1;33m=\u001b[0m\u001b[0mnp\u001b[0m\u001b[1;33m.\u001b[0m\u001b[0mload\u001b[0m\u001b[1;33m(\u001b[0m\u001b[1;34m'embedded_data.npy'\u001b[0m\u001b[1;33m)\u001b[0m\u001b[1;33m\u001b[0m\u001b[1;33m\u001b[0m\u001b[0m\n\u001b[0m",
      "\u001b[1;32mD:\\apps\\anaconda\\lib\\site-packages\\numpy\\lib\\npyio.py\u001b[0m in \u001b[0;36mload\u001b[1;34m(file, mmap_mode, allow_pickle, fix_imports, encoding)\u001b[0m\n\u001b[0;32m    438\u001b[0m                 \u001b[1;32mreturn\u001b[0m \u001b[0mformat\u001b[0m\u001b[1;33m.\u001b[0m\u001b[0mopen_memmap\u001b[0m\u001b[1;33m(\u001b[0m\u001b[0mfile\u001b[0m\u001b[1;33m,\u001b[0m \u001b[0mmode\u001b[0m\u001b[1;33m=\u001b[0m\u001b[0mmmap_mode\u001b[0m\u001b[1;33m)\u001b[0m\u001b[1;33m\u001b[0m\u001b[1;33m\u001b[0m\u001b[0m\n\u001b[0;32m    439\u001b[0m             \u001b[1;32melse\u001b[0m\u001b[1;33m:\u001b[0m\u001b[1;33m\u001b[0m\u001b[1;33m\u001b[0m\u001b[0m\n\u001b[1;32m--> 440\u001b[1;33m                 return format.read_array(fid, allow_pickle=allow_pickle,\n\u001b[0m\u001b[0;32m    441\u001b[0m                                          pickle_kwargs=pickle_kwargs)\n\u001b[0;32m    442\u001b[0m         \u001b[1;32melse\u001b[0m\u001b[1;33m:\u001b[0m\u001b[1;33m\u001b[0m\u001b[1;33m\u001b[0m\u001b[0m\n",
      "\u001b[1;32mD:\\apps\\anaconda\\lib\\site-packages\\numpy\\lib\\format.py\u001b[0m in \u001b[0;36mread_array\u001b[1;34m(fp, allow_pickle, pickle_kwargs)\u001b[0m\n\u001b[0;32m    751\u001b[0m         \u001b[1;32mif\u001b[0m \u001b[0misfileobj\u001b[0m\u001b[1;33m(\u001b[0m\u001b[0mfp\u001b[0m\u001b[1;33m)\u001b[0m\u001b[1;33m:\u001b[0m\u001b[1;33m\u001b[0m\u001b[1;33m\u001b[0m\u001b[0m\n\u001b[0;32m    752\u001b[0m             \u001b[1;31m# We can use the fast fromfile() function.\u001b[0m\u001b[1;33m\u001b[0m\u001b[1;33m\u001b[0m\u001b[0m\n\u001b[1;32m--> 753\u001b[1;33m             \u001b[0marray\u001b[0m \u001b[1;33m=\u001b[0m \u001b[0mnumpy\u001b[0m\u001b[1;33m.\u001b[0m\u001b[0mfromfile\u001b[0m\u001b[1;33m(\u001b[0m\u001b[0mfp\u001b[0m\u001b[1;33m,\u001b[0m \u001b[0mdtype\u001b[0m\u001b[1;33m=\u001b[0m\u001b[0mdtype\u001b[0m\u001b[1;33m,\u001b[0m \u001b[0mcount\u001b[0m\u001b[1;33m=\u001b[0m\u001b[0mcount\u001b[0m\u001b[1;33m)\u001b[0m\u001b[1;33m\u001b[0m\u001b[1;33m\u001b[0m\u001b[0m\n\u001b[0m\u001b[0;32m    754\u001b[0m         \u001b[1;32melse\u001b[0m\u001b[1;33m:\u001b[0m\u001b[1;33m\u001b[0m\u001b[1;33m\u001b[0m\u001b[0m\n\u001b[0;32m    755\u001b[0m             \u001b[1;31m# This is not a real file. We have to read it the\u001b[0m\u001b[1;33m\u001b[0m\u001b[1;33m\u001b[0m\u001b[0m\n",
      "\u001b[1;31mMemoryError\u001b[0m: Unable to allocate 164. MiB for an array with shape (42896640,) and data type float32"
     ]
    }
   ],
   "source": [
    "xx=np.load('embedded_data.npy')"
   ]
  },
  {
   "cell_type": "code",
   "execution_count": null,
   "id": "6d82a73b",
   "metadata": {},
   "outputs": [],
   "source": []
  }
 ],
 "metadata": {
  "kernelspec": {
   "display_name": "Python 3 (ipykernel)",
   "language": "python",
   "name": "python3"
  },
  "language_info": {
   "codemirror_mode": {
    "name": "ipython",
    "version": 3
   },
   "file_extension": ".py",
   "mimetype": "text/x-python",
   "name": "python",
   "nbconvert_exporter": "python",
   "pygments_lexer": "ipython3",
   "version": "3.9.7"
  }
 },
 "nbformat": 4,
 "nbformat_minor": 5
}
