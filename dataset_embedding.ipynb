{
 "cells": [
  {
   "cell_type": "code",
   "execution_count": 63,
   "id": "5de95f2a",
   "metadata": {},
   "outputs": [],
   "source": [
    "import pandas as pd\n",
    "import numpy as np\n",
    "import tensorflow as tf\n",
    "import tensorflow_hub as hub"
   ]
  },
  {
   "cell_type": "code",
   "execution_count": 66,
   "id": "e91842a9",
   "metadata": {},
   "outputs": [],
   "source": [
    "df1=pd.read_csv('C:/users/akkud/Machine Learning Project/ALL_THE_NEWS/articles1.csv')\n",
    "df2=pd.read_csv('C:/users/akkud/Machine Learning Project/ALL_THE_NEWS/articles2.csv')\n",
    "df3=pd.read_csv('C:/users/akkud/Machine Learning Project/ALL_THE_NEWS/articles3.csv')"
   ]
  },
  {
   "cell_type": "code",
   "execution_count": 67,
   "id": "293ee755",
   "metadata": {},
   "outputs": [],
   "source": [
    "frames = [df1, df2, df3]\n",
    "all_news = pd.concat(frames)"
   ]
  },
  {
   "cell_type": "code",
   "execution_count": 68,
   "id": "7eb08785",
   "metadata": {
    "scrolled": true
   },
   "outputs": [
    {
     "data": {
      "text/plain": [
       "Breitbart              23781\n",
       "New York Post          17493\n",
       "NPR                    11992\n",
       "CNN                    11488\n",
       "Washington Post        11114\n",
       "Reuters                10710\n",
       "Guardian                8681\n",
       "New York Times          7803\n",
       "Atlantic                7179\n",
       "Business Insider        6757\n",
       "National Review         6203\n",
       "Talking Points Memo     5214\n",
       "Vox                     4947\n",
       "Buzzfeed News           4854\n",
       "Fox News                4354\n",
       "Name: publication, dtype: int64"
      ]
     },
     "execution_count": 68,
     "metadata": {},
     "output_type": "execute_result"
    }
   ],
   "source": [
    "all_news['publication'].value_counts()"
   ]
  },
  {
   "cell_type": "markdown",
   "id": "1e13888e",
   "metadata": {},
   "source": [
    "# left media -  Atlantic, Newyork times, CNN\n",
    "# right media - breibart, newyork post, "
   ]
  },
  {
   "cell_type": "code",
   "execution_count": 69,
   "id": "5d3bd4f7",
   "metadata": {},
   "outputs": [],
   "source": [
    "data = all_news.sample(frac=0.7, random_state = 10)"
   ]
  },
  {
   "cell_type": "code",
   "execution_count": 70,
   "id": "0e7e1a55",
   "metadata": {},
   "outputs": [
    {
     "data": {
      "text/plain": [
       "(99799, 10)"
      ]
     },
     "execution_count": 70,
     "metadata": {},
     "output_type": "execute_result"
    }
   ],
   "source": [
    "data.shape"
   ]
  },
  {
   "cell_type": "code",
   "execution_count": 71,
   "id": "5ef460fd",
   "metadata": {},
   "outputs": [
    {
     "name": "stdout",
     "output_type": "stream",
     "text": [
      "(4999, 10)\n",
      "(5502, 10)\n",
      "(8076, 10)\n",
      "(8464, 10)\n"
     ]
    }
   ],
   "source": [
    "data_a = data[data['publication']=='Atlantic']\n",
    "data_n = data[data['publication']=='New York Times']\n",
    "data_c=data[data['publication']=='CNN']\n",
    "data_np=data[data['publication']=='NPR']\n",
    "print(data_a.shape)\n",
    "print(data_n.shape)\n",
    "print(data_c.shape)\n",
    "print(data_np.shape)"
   ]
  },
  {
   "cell_type": "code",
   "execution_count": 72,
   "id": "2274d864",
   "metadata": {},
   "outputs": [
    {
     "name": "stdout",
     "output_type": "stream",
     "text": [
      "(16561, 10)\n",
      "(12253, 10)\n"
     ]
    }
   ],
   "source": [
    "data_b = data[data['publication']=='Breitbart']\n",
    "data_p = data[data['publication']=='New York Post']\n",
    "print(data_b.shape)\n",
    "print(data_p.shape)"
   ]
  },
  {
   "cell_type": "code",
   "execution_count": 73,
   "id": "657e2a2c",
   "metadata": {},
   "outputs": [
    {
     "data": {
      "text/html": [
       "<div>\n",
       "<style scoped>\n",
       "    .dataframe tbody tr th:only-of-type {\n",
       "        vertical-align: middle;\n",
       "    }\n",
       "\n",
       "    .dataframe tbody tr th {\n",
       "        vertical-align: top;\n",
       "    }\n",
       "\n",
       "    .dataframe thead th {\n",
       "        text-align: right;\n",
       "    }\n",
       "</style>\n",
       "<table border=\"1\" class=\"dataframe\">\n",
       "  <thead>\n",
       "    <tr style=\"text-align: right;\">\n",
       "      <th></th>\n",
       "      <th>Unnamed: 0</th>\n",
       "      <th>id</th>\n",
       "      <th>title</th>\n",
       "      <th>publication</th>\n",
       "      <th>author</th>\n",
       "      <th>date</th>\n",
       "      <th>year</th>\n",
       "      <th>month</th>\n",
       "      <th>url</th>\n",
       "      <th>content</th>\n",
       "    </tr>\n",
       "  </thead>\n",
       "  <tbody>\n",
       "    <tr>\n",
       "      <th>4516</th>\n",
       "      <td>57826</td>\n",
       "      <td>79358</td>\n",
       "      <td>The Atlantic  Politics &amp; Policy Daily: Boy Ban...</td>\n",
       "      <td>Atlantic</td>\n",
       "      <td>Elaine Godfrey</td>\n",
       "      <td>2016-07-27</td>\n",
       "      <td>2016.0</td>\n",
       "      <td>7.0</td>\n",
       "      <td>NaN</td>\n",
       "      <td>For us to continue writing great stori...</td>\n",
       "    </tr>\n",
       "    <tr>\n",
       "      <th>2945</th>\n",
       "      <td>56254</td>\n",
       "      <td>77389</td>\n",
       "      <td>The Atlantic Daily: The Chibok Girls, Landslid...</td>\n",
       "      <td>Atlantic</td>\n",
       "      <td>Marina Koren</td>\n",
       "      <td>2016-05-18</td>\n",
       "      <td>2016.0</td>\n",
       "      <td>5.0</td>\n",
       "      <td>NaN</td>\n",
       "      <td>, I want to receive updates from partners and ...</td>\n",
       "    </tr>\n",
       "    <tr>\n",
       "      <th>33</th>\n",
       "      <td>53326</td>\n",
       "      <td>73509</td>\n",
       "      <td>The Hermit Who Inadvertently Shaped Climate-Ch...</td>\n",
       "      <td>Atlantic</td>\n",
       "      <td>J. Weston Phippen</td>\n",
       "      <td>2017-01-12</td>\n",
       "      <td>2017.0</td>\n",
       "      <td>1.0</td>\n",
       "      <td>NaN</td>\n",
       "      <td>It was a year into his life alone in Colorado’...</td>\n",
       "    </tr>\n",
       "    <tr>\n",
       "      <th>1544</th>\n",
       "      <td>54853</td>\n",
       "      <td>75464</td>\n",
       "      <td>When Do Limited Strikes ’Work’?</td>\n",
       "      <td>Atlantic</td>\n",
       "      <td>Priscilla Alvarez</td>\n",
       "      <td>2017-04-08</td>\n",
       "      <td>2017.0</td>\n",
       "      <td>4.0</td>\n",
       "      <td>NaN</td>\n",
       "      <td>It was a dramatic shift for the Trump administ...</td>\n",
       "    </tr>\n",
       "    <tr>\n",
       "      <th>6389</th>\n",
       "      <td>59702</td>\n",
       "      <td>81701</td>\n",
       "      <td>The Battle Over Adult Swim’s Alt-Right TV Show</td>\n",
       "      <td>Atlantic</td>\n",
       "      <td>Russell Berman</td>\n",
       "      <td>2016-11-17</td>\n",
       "      <td>2016.0</td>\n",
       "      <td>11.0</td>\n",
       "      <td>NaN</td>\n",
       "      <td>At a glance, Million Dollar Extreme Presents: ...</td>\n",
       "    </tr>\n",
       "    <tr>\n",
       "      <th>...</th>\n",
       "      <td>...</td>\n",
       "      <td>...</td>\n",
       "      <td>...</td>\n",
       "      <td>...</td>\n",
       "      <td>...</td>\n",
       "      <td>...</td>\n",
       "      <td>...</td>\n",
       "      <td>...</td>\n",
       "      <td>...</td>\n",
       "      <td>...</td>\n",
       "    </tr>\n",
       "    <tr>\n",
       "      <th>4741</th>\n",
       "      <td>108200</td>\n",
       "      <td>161804</td>\n",
       "      <td>2 Cities To Pull More Than $3 Billion From Wel...</td>\n",
       "      <td>NPR</td>\n",
       "      <td>Bill Chappell</td>\n",
       "      <td>2017-02-08</td>\n",
       "      <td>2017.0</td>\n",
       "      <td>2.0</td>\n",
       "      <td>http://www.npr.org/sections/thetwo-way/2017/02...</td>\n",
       "      <td>Seattle’s City Council has voted to not renew ...</td>\n",
       "    </tr>\n",
       "    <tr>\n",
       "      <th>12423</th>\n",
       "      <td>115885</td>\n",
       "      <td>171213</td>\n",
       "      <td>William Bratton To Step Down As New York City ...</td>\n",
       "      <td>NPR</td>\n",
       "      <td>Eyder Peralta</td>\n",
       "      <td>2016-08-02</td>\n",
       "      <td>2016.0</td>\n",
       "      <td>8.0</td>\n",
       "      <td>http://www.npr.org/sections/thetwo-way/2016/08...</td>\n",
       "      <td>New York City Police Commissioner William J. B...</td>\n",
       "    </tr>\n",
       "    <tr>\n",
       "      <th>4275</th>\n",
       "      <td>107734</td>\n",
       "      <td>161209</td>\n",
       "      <td>Notorious Drug Lord ’El Chapo’ Pleads Not Guil...</td>\n",
       "      <td>NPR</td>\n",
       "      <td>Merrit Kennedy</td>\n",
       "      <td>2017-01-20</td>\n",
       "      <td>2017.0</td>\n",
       "      <td>1.0</td>\n",
       "      <td>http://www.npr.org/sections/thetwo-way/2017/01...</td>\n",
       "      <td>For decades, U. S. authorities have been prepa...</td>\n",
       "    </tr>\n",
       "    <tr>\n",
       "      <th>4180</th>\n",
       "      <td>107639</td>\n",
       "      <td>161103</td>\n",
       "      <td>President Obama Commutes Chelsea Manning’s Pri...</td>\n",
       "      <td>NPR</td>\n",
       "      <td>Merrit Kennedy</td>\n",
       "      <td>2017-01-17</td>\n",
       "      <td>2017.0</td>\n",
       "      <td>1.0</td>\n",
       "      <td>http://www.npr.org/sections/thetwo-way/2017/01...</td>\n",
       "      <td>In one of his last moves in office, President ...</td>\n",
       "    </tr>\n",
       "    <tr>\n",
       "      <th>11337</th>\n",
       "      <td>114799</td>\n",
       "      <td>169817</td>\n",
       "      <td>After White House Meeting, Sanders Reiterates ...</td>\n",
       "      <td>NPR</td>\n",
       "      <td>Amita Kelly</td>\n",
       "      <td>2016-06-09</td>\n",
       "      <td>2016.0</td>\n",
       "      <td>6.0</td>\n",
       "      <td>http://www.npr.org/2016/06/09/481387404/bernie...</td>\n",
       "      <td>Updated at 12:44 p. m. ET, President Obama met...</td>\n",
       "    </tr>\n",
       "  </tbody>\n",
       "</table>\n",
       "<p>27041 rows × 10 columns</p>\n",
       "</div>"
      ],
      "text/plain": [
       "       Unnamed: 0      id                                              title  \\\n",
       "4516        57826   79358  The Atlantic  Politics & Policy Daily: Boy Ban...   \n",
       "2945        56254   77389  The Atlantic Daily: The Chibok Girls, Landslid...   \n",
       "33          53326   73509  The Hermit Who Inadvertently Shaped Climate-Ch...   \n",
       "1544        54853   75464                    When Do Limited Strikes ’Work’?   \n",
       "6389        59702   81701     The Battle Over Adult Swim’s Alt-Right TV Show   \n",
       "...           ...     ...                                                ...   \n",
       "4741       108200  161804  2 Cities To Pull More Than $3 Billion From Wel...   \n",
       "12423      115885  171213  William Bratton To Step Down As New York City ...   \n",
       "4275       107734  161209  Notorious Drug Lord ’El Chapo’ Pleads Not Guil...   \n",
       "4180       107639  161103  President Obama Commutes Chelsea Manning’s Pri...   \n",
       "11337      114799  169817  After White House Meeting, Sanders Reiterates ...   \n",
       "\n",
       "      publication             author        date    year  month  \\\n",
       "4516     Atlantic     Elaine Godfrey  2016-07-27  2016.0    7.0   \n",
       "2945     Atlantic       Marina Koren  2016-05-18  2016.0    5.0   \n",
       "33       Atlantic  J. Weston Phippen  2017-01-12  2017.0    1.0   \n",
       "1544     Atlantic  Priscilla Alvarez  2017-04-08  2017.0    4.0   \n",
       "6389     Atlantic     Russell Berman  2016-11-17  2016.0   11.0   \n",
       "...           ...                ...         ...     ...    ...   \n",
       "4741          NPR      Bill Chappell  2017-02-08  2017.0    2.0   \n",
       "12423         NPR      Eyder Peralta  2016-08-02  2016.0    8.0   \n",
       "4275          NPR     Merrit Kennedy  2017-01-20  2017.0    1.0   \n",
       "4180          NPR     Merrit Kennedy  2017-01-17  2017.0    1.0   \n",
       "11337         NPR        Amita Kelly  2016-06-09  2016.0    6.0   \n",
       "\n",
       "                                                     url  \\\n",
       "4516                                                 NaN   \n",
       "2945                                                 NaN   \n",
       "33                                                   NaN   \n",
       "1544                                                 NaN   \n",
       "6389                                                 NaN   \n",
       "...                                                  ...   \n",
       "4741   http://www.npr.org/sections/thetwo-way/2017/02...   \n",
       "12423  http://www.npr.org/sections/thetwo-way/2016/08...   \n",
       "4275   http://www.npr.org/sections/thetwo-way/2017/01...   \n",
       "4180   http://www.npr.org/sections/thetwo-way/2017/01...   \n",
       "11337  http://www.npr.org/2016/06/09/481387404/bernie...   \n",
       "\n",
       "                                                 content  \n",
       "4516           For us to continue writing great stori...  \n",
       "2945   , I want to receive updates from partners and ...  \n",
       "33     It was a year into his life alone in Colorado’...  \n",
       "1544   It was a dramatic shift for the Trump administ...  \n",
       "6389   At a glance, Million Dollar Extreme Presents: ...  \n",
       "...                                                  ...  \n",
       "4741   Seattle’s City Council has voted to not renew ...  \n",
       "12423  New York City Police Commissioner William J. B...  \n",
       "4275   For decades, U. S. authorities have been prepa...  \n",
       "4180   In one of his last moves in office, President ...  \n",
       "11337  Updated at 12:44 p. m. ET, President Obama met...  \n",
       "\n",
       "[27041 rows x 10 columns]"
      ]
     },
     "execution_count": 73,
     "metadata": {},
     "output_type": "execute_result"
    }
   ],
   "source": [
    "frame1=[data_a, data_n, data_c, data_np]\n",
    "frame2=[data_b, data_p]\n",
    "data_left=pd.concat(frame1)\n",
    "data_right=pd.concat(frame2)\n",
    "data_left"
   ]
  },
  {
   "cell_type": "code",
   "execution_count": 74,
   "id": "613bb063",
   "metadata": {},
   "outputs": [
    {
     "name": "stdout",
     "output_type": "stream",
     "text": [
      "(27041, 10)\n",
      "(28814, 10)\n"
     ]
    },
    {
     "data": {
      "text/html": [
       "<div>\n",
       "<style scoped>\n",
       "    .dataframe tbody tr th:only-of-type {\n",
       "        vertical-align: middle;\n",
       "    }\n",
       "\n",
       "    .dataframe tbody tr th {\n",
       "        vertical-align: top;\n",
       "    }\n",
       "\n",
       "    .dataframe thead th {\n",
       "        text-align: right;\n",
       "    }\n",
       "</style>\n",
       "<table border=\"1\" class=\"dataframe\">\n",
       "  <thead>\n",
       "    <tr style=\"text-align: right;\">\n",
       "      <th></th>\n",
       "      <th>Unnamed: 0</th>\n",
       "      <th>id</th>\n",
       "      <th>title</th>\n",
       "      <th>publication</th>\n",
       "      <th>author</th>\n",
       "      <th>date</th>\n",
       "      <th>year</th>\n",
       "      <th>month</th>\n",
       "      <th>url</th>\n",
       "      <th>content</th>\n",
       "    </tr>\n",
       "  </thead>\n",
       "  <tbody>\n",
       "    <tr>\n",
       "      <th>25335</th>\n",
       "      <td>25340</td>\n",
       "      <td>44094</td>\n",
       "      <td>‘Multicultural Toilets’ For ’Global Defecation...</td>\n",
       "      <td>Breitbart</td>\n",
       "      <td>Liam Deacon</td>\n",
       "      <td>2016-02-04</td>\n",
       "      <td>2016.0</td>\n",
       "      <td>2.0</td>\n",
       "      <td>NaN</td>\n",
       "      <td>German bathroom manufacturers are developing “...</td>\n",
       "    </tr>\n",
       "    <tr>\n",
       "      <th>17221</th>\n",
       "      <td>17222</td>\n",
       "      <td>35961</td>\n",
       "      <td>Fate of Obama’s Amnesty Uncertain at Supreme C...</td>\n",
       "      <td>Breitbart</td>\n",
       "      <td>Ken Klukowski</td>\n",
       "      <td>2016-04-18</td>\n",
       "      <td>2016.0</td>\n",
       "      <td>4.0</td>\n",
       "      <td>NaN</td>\n",
       "      <td>WASHINGTON —  Justices on the Supreme Court we...</td>\n",
       "    </tr>\n",
       "    <tr>\n",
       "      <th>25113</th>\n",
       "      <td>25118</td>\n",
       "      <td>43871</td>\n",
       "      <td>‘North Africans’ Attack Tourist Photographing ...</td>\n",
       "      <td>Breitbart</td>\n",
       "      <td>Liam Deacon</td>\n",
       "      <td>2016-08-15</td>\n",
       "      <td>2016.0</td>\n",
       "      <td>8.0</td>\n",
       "      <td>NaN</td>\n",
       "      <td>Five people have been injured in riots in Cors...</td>\n",
       "    </tr>\n",
       "    <tr>\n",
       "      <th>9216</th>\n",
       "      <td>9216</td>\n",
       "      <td>27952</td>\n",
       "      <td>Robert Barnes: Trump Could ‘Go Full Andrew Jac...</td>\n",
       "      <td>Breitbart</td>\n",
       "      <td>John Hayward</td>\n",
       "      <td>2017-03-16</td>\n",
       "      <td>2017.0</td>\n",
       "      <td>3.0</td>\n",
       "      <td>NaN</td>\n",
       "      <td>Attorney Robert Barnes joined SiriusXM host Al...</td>\n",
       "    </tr>\n",
       "    <tr>\n",
       "      <th>12624</th>\n",
       "      <td>12625</td>\n",
       "      <td>31361</td>\n",
       "      <td>HBO Scraps Jon Stewart Animated Comedy Series</td>\n",
       "      <td>Breitbart</td>\n",
       "      <td>Daniel Nussbaum</td>\n",
       "      <td>2017-05-24</td>\n",
       "      <td>2017.0</td>\n",
       "      <td>5.0</td>\n",
       "      <td>NaN</td>\n",
       "      <td>HBO has discarded plans for an animated politi...</td>\n",
       "    </tr>\n",
       "    <tr>\n",
       "      <th>...</th>\n",
       "      <td>...</td>\n",
       "      <td>...</td>\n",
       "      <td>...</td>\n",
       "      <td>...</td>\n",
       "      <td>...</td>\n",
       "      <td>...</td>\n",
       "      <td>...</td>\n",
       "      <td>...</td>\n",
       "      <td>...</td>\n",
       "      <td>...</td>\n",
       "    </tr>\n",
       "    <tr>\n",
       "      <th>33285</th>\n",
       "      <td>86744</td>\n",
       "      <td>129824</td>\n",
       "      <td>FTC could put brakes on paid celeb Instagram e...</td>\n",
       "      <td>New York Post</td>\n",
       "      <td>Keith J. Kelly</td>\n",
       "      <td>2017-04-20</td>\n",
       "      <td>2017.0</td>\n",
       "      <td>4.0</td>\n",
       "      <td>https://web.archive.org/web/20170425001200/htt...</td>\n",
       "      <td>The   to 90 celebrity “influencers” for paid p...</td>\n",
       "    </tr>\n",
       "    <tr>\n",
       "      <th>34471</th>\n",
       "      <td>87930</td>\n",
       "      <td>131312</td>\n",
       "      <td>The left’s ridiculous double standard on spill...</td>\n",
       "      <td>New York Post</td>\n",
       "      <td>Seth Lipsky</td>\n",
       "      <td>2017-05-18</td>\n",
       "      <td>2017.0</td>\n",
       "      <td>5.0</td>\n",
       "      <td>https://web.archive.org/web/20170519002915/htt...</td>\n",
       "      <td>It may be too soon to tell whether Donald Trum...</td>\n",
       "    </tr>\n",
       "    <tr>\n",
       "      <th>38418</th>\n",
       "      <td>91877</td>\n",
       "      <td>136827</td>\n",
       "      <td>Clinton claims Trump wants to profit from Brexit</td>\n",
       "      <td>New York Post</td>\n",
       "      <td>Daniel Halper</td>\n",
       "      <td>2016-06-26</td>\n",
       "      <td>2016.0</td>\n",
       "      <td>6.0</td>\n",
       "      <td>http://nypost.com/2016/06/26/clinton-claims-tr...</td>\n",
       "      <td>WASHINGTON  —   Hillary Clinton’s campaign on ...</td>\n",
       "    </tr>\n",
       "    <tr>\n",
       "      <th>41856</th>\n",
       "      <td>95315</td>\n",
       "      <td>141027</td>\n",
       "      <td>Broncos’ inspiration will be 3 states away, wa...</td>\n",
       "      <td>New York Post</td>\n",
       "      <td>Mark Cannizzaro</td>\n",
       "      <td>2016-02-06</td>\n",
       "      <td>2016.0</td>\n",
       "      <td>2.0</td>\n",
       "      <td>http://nypost.com/2016/02/06/broncos-inspirati...</td>\n",
       "      <td>SAN FRANCISCO  —   The narrative that has domi...</td>\n",
       "    </tr>\n",
       "    <tr>\n",
       "      <th>39890</th>\n",
       "      <td>93349</td>\n",
       "      <td>138536</td>\n",
       "      <td>Mike Pence raves about ‘Hamilton’ despite boos</td>\n",
       "      <td>New York Post</td>\n",
       "      <td>Marisa Schultz</td>\n",
       "      <td>2016-11-20</td>\n",
       "      <td>2016.0</td>\n",
       "      <td>11.0</td>\n",
       "      <td>http://nypost.com/2016/11/20/mike-pence-calls-...</td>\n",
       "      <td>WASHINGTON  —   Two days after being booed and...</td>\n",
       "    </tr>\n",
       "  </tbody>\n",
       "</table>\n",
       "<p>28814 rows × 10 columns</p>\n",
       "</div>"
      ],
      "text/plain": [
       "       Unnamed: 0      id                                              title  \\\n",
       "25335       25340   44094  ‘Multicultural Toilets’ For ’Global Defecation...   \n",
       "17221       17222   35961  Fate of Obama’s Amnesty Uncertain at Supreme C...   \n",
       "25113       25118   43871  ‘North Africans’ Attack Tourist Photographing ...   \n",
       "9216         9216   27952  Robert Barnes: Trump Could ‘Go Full Andrew Jac...   \n",
       "12624       12625   31361      HBO Scraps Jon Stewart Animated Comedy Series   \n",
       "...           ...     ...                                                ...   \n",
       "33285       86744  129824  FTC could put brakes on paid celeb Instagram e...   \n",
       "34471       87930  131312  The left’s ridiculous double standard on spill...   \n",
       "38418       91877  136827   Clinton claims Trump wants to profit from Brexit   \n",
       "41856       95315  141027  Broncos’ inspiration will be 3 states away, wa...   \n",
       "39890       93349  138536     Mike Pence raves about ‘Hamilton’ despite boos   \n",
       "\n",
       "         publication           author        date    year  month  \\\n",
       "25335      Breitbart      Liam Deacon  2016-02-04  2016.0    2.0   \n",
       "17221      Breitbart    Ken Klukowski  2016-04-18  2016.0    4.0   \n",
       "25113      Breitbart      Liam Deacon  2016-08-15  2016.0    8.0   \n",
       "9216       Breitbart     John Hayward  2017-03-16  2017.0    3.0   \n",
       "12624      Breitbart  Daniel Nussbaum  2017-05-24  2017.0    5.0   \n",
       "...              ...              ...         ...     ...    ...   \n",
       "33285  New York Post   Keith J. Kelly  2017-04-20  2017.0    4.0   \n",
       "34471  New York Post      Seth Lipsky  2017-05-18  2017.0    5.0   \n",
       "38418  New York Post    Daniel Halper  2016-06-26  2016.0    6.0   \n",
       "41856  New York Post  Mark Cannizzaro  2016-02-06  2016.0    2.0   \n",
       "39890  New York Post   Marisa Schultz  2016-11-20  2016.0   11.0   \n",
       "\n",
       "                                                     url  \\\n",
       "25335                                                NaN   \n",
       "17221                                                NaN   \n",
       "25113                                                NaN   \n",
       "9216                                                 NaN   \n",
       "12624                                                NaN   \n",
       "...                                                  ...   \n",
       "33285  https://web.archive.org/web/20170425001200/htt...   \n",
       "34471  https://web.archive.org/web/20170519002915/htt...   \n",
       "38418  http://nypost.com/2016/06/26/clinton-claims-tr...   \n",
       "41856  http://nypost.com/2016/02/06/broncos-inspirati...   \n",
       "39890  http://nypost.com/2016/11/20/mike-pence-calls-...   \n",
       "\n",
       "                                                 content  \n",
       "25335  German bathroom manufacturers are developing “...  \n",
       "17221  WASHINGTON —  Justices on the Supreme Court we...  \n",
       "25113  Five people have been injured in riots in Cors...  \n",
       "9216   Attorney Robert Barnes joined SiriusXM host Al...  \n",
       "12624  HBO has discarded plans for an animated politi...  \n",
       "...                                                  ...  \n",
       "33285  The   to 90 celebrity “influencers” for paid p...  \n",
       "34471  It may be too soon to tell whether Donald Trum...  \n",
       "38418  WASHINGTON  —   Hillary Clinton’s campaign on ...  \n",
       "41856  SAN FRANCISCO  —   The narrative that has domi...  \n",
       "39890  WASHINGTON  —   Two days after being booed and...  \n",
       "\n",
       "[28814 rows x 10 columns]"
      ]
     },
     "execution_count": 74,
     "metadata": {},
     "output_type": "execute_result"
    }
   ],
   "source": [
    "print(data_left.shape)\n",
    "print(data_right.shape)\n",
    "data_right"
   ]
  },
  {
   "cell_type": "code",
   "execution_count": 75,
   "id": "5f594676",
   "metadata": {},
   "outputs": [],
   "source": [
    "left = [0]*data_left.shape[0]\n",
    "right = [1]*data_right.shape[0]"
   ]
  },
  {
   "cell_type": "code",
   "execution_count": 76,
   "id": "98db0ab6",
   "metadata": {},
   "outputs": [],
   "source": [
    "data_left['class']=left\n",
    "data_right['class']=right"
   ]
  },
  {
   "cell_type": "code",
   "execution_count": 77,
   "id": "a14b1cb9",
   "metadata": {},
   "outputs": [
    {
     "name": "stdout",
     "output_type": "stream",
     "text": [
      "(27041, 11)\n",
      "(28814, 11)\n"
     ]
    }
   ],
   "source": [
    "print(data_left.shape)\n",
    "print(data_right.shape)"
   ]
  },
  {
   "cell_type": "code",
   "execution_count": 78,
   "id": "864f3936",
   "metadata": {},
   "outputs": [
    {
     "data": {
      "text/html": [
       "<div>\n",
       "<style scoped>\n",
       "    .dataframe tbody tr th:only-of-type {\n",
       "        vertical-align: middle;\n",
       "    }\n",
       "\n",
       "    .dataframe tbody tr th {\n",
       "        vertical-align: top;\n",
       "    }\n",
       "\n",
       "    .dataframe thead th {\n",
       "        text-align: right;\n",
       "    }\n",
       "</style>\n",
       "<table border=\"1\" class=\"dataframe\">\n",
       "  <thead>\n",
       "    <tr style=\"text-align: right;\">\n",
       "      <th></th>\n",
       "      <th>Unnamed: 0</th>\n",
       "      <th>id</th>\n",
       "      <th>title</th>\n",
       "      <th>publication</th>\n",
       "      <th>author</th>\n",
       "      <th>date</th>\n",
       "      <th>year</th>\n",
       "      <th>month</th>\n",
       "      <th>url</th>\n",
       "      <th>content</th>\n",
       "      <th>class</th>\n",
       "    </tr>\n",
       "  </thead>\n",
       "  <tbody>\n",
       "    <tr>\n",
       "      <th>29407</th>\n",
       "      <td>29415</td>\n",
       "      <td>48179</td>\n",
       "      <td>7 Reasons Millennials are Financially Doomed -...</td>\n",
       "      <td>Breitbart</td>\n",
       "      <td>Justin Dent</td>\n",
       "      <td>2016-03-09</td>\n",
       "      <td>2016.0</td>\n",
       "      <td>3.0</td>\n",
       "      <td>NaN</td>\n",
       "      <td>As the presidential race shifts into high gear...</td>\n",
       "      <td>1</td>\n",
       "    </tr>\n",
       "    <tr>\n",
       "      <th>29382</th>\n",
       "      <td>29390</td>\n",
       "      <td>48154</td>\n",
       "      <td>Obama: Establishment Media Were Shattered in 2...</td>\n",
       "      <td>Breitbart</td>\n",
       "      <td>Neil Munro</td>\n",
       "      <td>2016-11-18</td>\n",
       "      <td>2016.0</td>\n",
       "      <td>11.0</td>\n",
       "      <td>NaN</td>\n",
       "      <td>The American public has used the Internet to b...</td>\n",
       "      <td>1</td>\n",
       "    </tr>\n",
       "    <tr>\n",
       "      <th>12419</th>\n",
       "      <td>12420</td>\n",
       "      <td>31156</td>\n",
       "      <td>Anti Soros Law? Hungary Tightens Rules On Fore...</td>\n",
       "      <td>Breitbart</td>\n",
       "      <td>Chris Tomlinson</td>\n",
       "      <td>2017-06-13</td>\n",
       "      <td>2017.0</td>\n",
       "      <td>6.0</td>\n",
       "      <td>NaN</td>\n",
       "      <td>The Hungarian government has passed a new regu...</td>\n",
       "      <td>1</td>\n",
       "    </tr>\n",
       "    <tr>\n",
       "      <th>2799</th>\n",
       "      <td>56108</td>\n",
       "      <td>77200</td>\n",
       "      <td>Donald Trump’s Economic Plans Would Destroy th...</td>\n",
       "      <td>Atlantic</td>\n",
       "      <td>NaN</td>\n",
       "      <td>2016-05-08</td>\n",
       "      <td>2016.0</td>\n",
       "      <td>5.0</td>\n",
       "      <td>NaN</td>\n",
       "      <td>, I want to receive updates from partners and ...</td>\n",
       "      <td>0</td>\n",
       "    </tr>\n",
       "    <tr>\n",
       "      <th>4696</th>\n",
       "      <td>58006</td>\n",
       "      <td>79592</td>\n",
       "      <td>Trump’s Economy: Lower Taxes, No TPP, and … Af...</td>\n",
       "      <td>Atlantic</td>\n",
       "      <td>Gillian B. White</td>\n",
       "      <td>2016-08-08</td>\n",
       "      <td>2016.0</td>\n",
       "      <td>8.0</td>\n",
       "      <td>NaN</td>\n",
       "      <td>For us to continue writing great stori...</td>\n",
       "      <td>0</td>\n",
       "    </tr>\n",
       "    <tr>\n",
       "      <th>...</th>\n",
       "      <td>...</td>\n",
       "      <td>...</td>\n",
       "      <td>...</td>\n",
       "      <td>...</td>\n",
       "      <td>...</td>\n",
       "      <td>...</td>\n",
       "      <td>...</td>\n",
       "      <td>...</td>\n",
       "      <td>...</td>\n",
       "      <td>...</td>\n",
       "      <td>...</td>\n",
       "    </tr>\n",
       "    <tr>\n",
       "      <th>37333</th>\n",
       "      <td>90792</td>\n",
       "      <td>135624</td>\n",
       "      <td>Cowboys practically inviting an explosive QB c...</td>\n",
       "      <td>New York Post</td>\n",
       "      <td>Bart Hubbuch</td>\n",
       "      <td>2016-09-27</td>\n",
       "      <td>2016.0</td>\n",
       "      <td>9.0</td>\n",
       "      <td>http://nypost.com/2016/09/27/cowboys-practical...</td>\n",
       "      <td>Thanks to Jerry Jones, the Cowboys are rarely ...</td>\n",
       "      <td>1</td>\n",
       "    </tr>\n",
       "    <tr>\n",
       "      <th>14886</th>\n",
       "      <td>14887</td>\n",
       "      <td>33623</td>\n",
       "      <td>Bus Runs Into Crowd in Haiti, Killing At Least...</td>\n",
       "      <td>Breitbart</td>\n",
       "      <td>Breitbart News</td>\n",
       "      <td>2017-03-12</td>\n",
       "      <td>2017.0</td>\n",
       "      <td>3.0</td>\n",
       "      <td>NaN</td>\n",
       "      <td>Haiti (AP)  —   A bus plowed into people ta...</td>\n",
       "      <td>1</td>\n",
       "    </tr>\n",
       "    <tr>\n",
       "      <th>3684</th>\n",
       "      <td>3684</td>\n",
       "      <td>21373</td>\n",
       "      <td>Gord Downie, Frontman for the Tragically Hip, ...</td>\n",
       "      <td>New York Times</td>\n",
       "      <td>Melena Ryzik</td>\n",
       "      <td>2016-08-23</td>\n",
       "      <td>2016.0</td>\n",
       "      <td>8.0</td>\n",
       "      <td>NaN</td>\n",
       "      <td>In an unparalleled moment of national pride la...</td>\n",
       "      <td>0</td>\n",
       "    </tr>\n",
       "    <tr>\n",
       "      <th>33841</th>\n",
       "      <td>34345</td>\n",
       "      <td>53162</td>\n",
       "      <td>Delta meltdown: Pilots are on hold, too</td>\n",
       "      <td>CNN</td>\n",
       "      <td>NaN</td>\n",
       "      <td>2017-04-08</td>\n",
       "      <td>2017.0</td>\n",
       "      <td>4.0</td>\n",
       "      <td>NaN</td>\n",
       "      <td>(CNN) You might not be the only one on hold w...</td>\n",
       "      <td>0</td>\n",
       "    </tr>\n",
       "    <tr>\n",
       "      <th>8952</th>\n",
       "      <td>8952</td>\n",
       "      <td>27688</td>\n",
       "      <td>Trevor Noah: ’When Are We Going to Start Treat...</td>\n",
       "      <td>Breitbart</td>\n",
       "      <td>Breitbart TV</td>\n",
       "      <td>2017-02-17</td>\n",
       "      <td>2017.0</td>\n",
       "      <td>2.0</td>\n",
       "      <td>NaN</td>\n",
       "      <td>Friday on ABC’s “The View,” Comedy Central’s “...</td>\n",
       "      <td>1</td>\n",
       "    </tr>\n",
       "  </tbody>\n",
       "</table>\n",
       "<p>55855 rows × 11 columns</p>\n",
       "</div>"
      ],
      "text/plain": [
       "       Unnamed: 0      id                                              title  \\\n",
       "29407       29415   48179  7 Reasons Millennials are Financially Doomed -...   \n",
       "29382       29390   48154  Obama: Establishment Media Were Shattered in 2...   \n",
       "12419       12420   31156  Anti Soros Law? Hungary Tightens Rules On Fore...   \n",
       "2799        56108   77200  Donald Trump’s Economic Plans Would Destroy th...   \n",
       "4696        58006   79592  Trump’s Economy: Lower Taxes, No TPP, and … Af...   \n",
       "...           ...     ...                                                ...   \n",
       "37333       90792  135624  Cowboys practically inviting an explosive QB c...   \n",
       "14886       14887   33623  Bus Runs Into Crowd in Haiti, Killing At Least...   \n",
       "3684         3684   21373  Gord Downie, Frontman for the Tragically Hip, ...   \n",
       "33841       34345   53162            Delta meltdown: Pilots are on hold, too   \n",
       "8952         8952   27688  Trevor Noah: ’When Are We Going to Start Treat...   \n",
       "\n",
       "          publication            author        date    year  month  \\\n",
       "29407       Breitbart       Justin Dent  2016-03-09  2016.0    3.0   \n",
       "29382       Breitbart        Neil Munro  2016-11-18  2016.0   11.0   \n",
       "12419       Breitbart   Chris Tomlinson  2017-06-13  2017.0    6.0   \n",
       "2799         Atlantic               NaN  2016-05-08  2016.0    5.0   \n",
       "4696         Atlantic  Gillian B. White  2016-08-08  2016.0    8.0   \n",
       "...               ...               ...         ...     ...    ...   \n",
       "37333   New York Post      Bart Hubbuch  2016-09-27  2016.0    9.0   \n",
       "14886       Breitbart    Breitbart News  2017-03-12  2017.0    3.0   \n",
       "3684   New York Times      Melena Ryzik  2016-08-23  2016.0    8.0   \n",
       "33841             CNN               NaN  2017-04-08  2017.0    4.0   \n",
       "8952        Breitbart      Breitbart TV  2017-02-17  2017.0    2.0   \n",
       "\n",
       "                                                     url  \\\n",
       "29407                                                NaN   \n",
       "29382                                                NaN   \n",
       "12419                                                NaN   \n",
       "2799                                                 NaN   \n",
       "4696                                                 NaN   \n",
       "...                                                  ...   \n",
       "37333  http://nypost.com/2016/09/27/cowboys-practical...   \n",
       "14886                                                NaN   \n",
       "3684                                                 NaN   \n",
       "33841                                                NaN   \n",
       "8952                                                 NaN   \n",
       "\n",
       "                                                 content  class  \n",
       "29407  As the presidential race shifts into high gear...      1  \n",
       "29382  The American public has used the Internet to b...      1  \n",
       "12419  The Hungarian government has passed a new regu...      1  \n",
       "2799   , I want to receive updates from partners and ...      0  \n",
       "4696           For us to continue writing great stori...      0  \n",
       "...                                                  ...    ...  \n",
       "37333  Thanks to Jerry Jones, the Cowboys are rarely ...      1  \n",
       "14886     Haiti (AP)  —   A bus plowed into people ta...      1  \n",
       "3684   In an unparalleled moment of national pride la...      0  \n",
       "33841   (CNN) You might not be the only one on hold w...      0  \n",
       "8952   Friday on ABC’s “The View,” Comedy Central’s “...      1  \n",
       "\n",
       "[55855 rows x 11 columns]"
      ]
     },
     "execution_count": 78,
     "metadata": {},
     "output_type": "execute_result"
    }
   ],
   "source": [
    "data_all = pd.concat([data_left, data_right])\n",
    "data_all=data_all.sample(frac=1, random_state=1)\n",
    "data_all"
   ]
  },
  {
   "cell_type": "code",
   "execution_count": 79,
   "id": "a3b7bf5e",
   "metadata": {},
   "outputs": [],
   "source": [
    "content = list(data_all.iloc[:,9])"
   ]
  },
  {
   "cell_type": "code",
   "execution_count": 80,
   "id": "8a1ef4e9",
   "metadata": {},
   "outputs": [
    {
     "name": "stdout",
     "output_type": "stream",
     "text": [
      "55855\n",
      "55855\n"
     ]
    }
   ],
   "source": [
    "content = [word.replace('Atlantic', '') for word in content]\n",
    "print(len(content))\n",
    "content = [word.replace('New York Times', '') for word in content]\n",
    "content = [word.replace('CNN', '') for word in content]\n",
    "content = [word.replace('NPR', '') for word in content]\n",
    "content = [word.replace('Breibart', '') for word in content]\n",
    "content = [word.replace('New York Post', '') for word in content]\n",
    "print(len(content))"
   ]
  },
  {
   "cell_type": "code",
   "execution_count": 32,
   "id": "6a6b726a",
   "metadata": {},
   "outputs": [
    {
     "name": "stdout",
     "output_type": "stream",
     "text": [
      "^C\n"
     ]
    }
   ],
   "source": []
  },
  {
   "cell_type": "code",
   "execution_count": 81,
   "id": "a3ef87c8",
   "metadata": {},
   "outputs": [],
   "source": [
    "from sentence_transformers import SentenceTransformer"
   ]
  },
  {
   "cell_type": "code",
   "execution_count": 34,
   "id": "0b0235d4",
   "metadata": {},
   "outputs": [
    {
     "data": {
      "application/vnd.jupyter.widget-view+json": {
       "model_id": "c662568414304620ad7a68c331d624bd",
       "version_major": 2,
       "version_minor": 0
      },
      "text/plain": [
       "Downloading:   0%|          | 0.00/391 [00:00<?, ?B/s]"
      ]
     },
     "metadata": {},
     "output_type": "display_data"
    },
    {
     "data": {
      "application/vnd.jupyter.widget-view+json": {
       "model_id": "7d7807f69eb34855aca494b5e0a96bf6",
       "version_major": 2,
       "version_minor": 0
      },
      "text/plain": [
       "Downloading:   0%|          | 0.00/190 [00:00<?, ?B/s]"
      ]
     },
     "metadata": {},
     "output_type": "display_data"
    },
    {
     "data": {
      "application/vnd.jupyter.widget-view+json": {
       "model_id": "f3e5181a30194c25807df7b4910b9d45",
       "version_major": 2,
       "version_minor": 0
      },
      "text/plain": [
       "Downloading:   0%|          | 0.00/3.95k [00:00<?, ?B/s]"
      ]
     },
     "metadata": {},
     "output_type": "display_data"
    },
    {
     "data": {
      "application/vnd.jupyter.widget-view+json": {
       "model_id": "172efa199add4823bda6ce143aa0f1b7",
       "version_major": 2,
       "version_minor": 0
      },
      "text/plain": [
       "Downloading:   0%|          | 0.00/2.00 [00:00<?, ?B/s]"
      ]
     },
     "metadata": {},
     "output_type": "display_data"
    },
    {
     "data": {
      "application/vnd.jupyter.widget-view+json": {
       "model_id": "fe9af50ae22247ca8ee8e4675a56f201",
       "version_major": 2,
       "version_minor": 0
      },
      "text/plain": [
       "Downloading:   0%|          | 0.00/625 [00:00<?, ?B/s]"
      ]
     },
     "metadata": {},
     "output_type": "display_data"
    },
    {
     "data": {
      "application/vnd.jupyter.widget-view+json": {
       "model_id": "4acc32fd131d4f79ad15bf31e469d606",
       "version_major": 2,
       "version_minor": 0
      },
      "text/plain": [
       "Downloading:   0%|          | 0.00/122 [00:00<?, ?B/s]"
      ]
     },
     "metadata": {},
     "output_type": "display_data"
    },
    {
     "data": {
      "application/vnd.jupyter.widget-view+json": {
       "model_id": "6d7bfc99eae94224b6a4423835d21b87",
       "version_major": 2,
       "version_minor": 0
      },
      "text/plain": [
       "Downloading:   0%|          | 0.00/438M [00:00<?, ?B/s]"
      ]
     },
     "metadata": {},
     "output_type": "display_data"
    },
    {
     "data": {
      "application/vnd.jupyter.widget-view+json": {
       "model_id": "2468b3fca1784d4881b0a25e3c54c3aa",
       "version_major": 2,
       "version_minor": 0
      },
      "text/plain": [
       "Downloading:   0%|          | 0.00/53.0 [00:00<?, ?B/s]"
      ]
     },
     "metadata": {},
     "output_type": "display_data"
    },
    {
     "data": {
      "application/vnd.jupyter.widget-view+json": {
       "model_id": "302843c22d9c4edcb95eb85d2b43c41e",
       "version_major": 2,
       "version_minor": 0
      },
      "text/plain": [
       "Downloading:   0%|          | 0.00/112 [00:00<?, ?B/s]"
      ]
     },
     "metadata": {},
     "output_type": "display_data"
    },
    {
     "data": {
      "application/vnd.jupyter.widget-view+json": {
       "model_id": "93479e7a84324bc79cd9616117de6d34",
       "version_major": 2,
       "version_minor": 0
      },
      "text/plain": [
       "Downloading:   0%|          | 0.00/466k [00:00<?, ?B/s]"
      ]
     },
     "metadata": {},
     "output_type": "display_data"
    },
    {
     "data": {
      "application/vnd.jupyter.widget-view+json": {
       "model_id": "859fc2ff33cf43059cc98d8b751d1144",
       "version_major": 2,
       "version_minor": 0
      },
      "text/plain": [
       "Downloading:   0%|          | 0.00/399 [00:00<?, ?B/s]"
      ]
     },
     "metadata": {},
     "output_type": "display_data"
    },
    {
     "data": {
      "application/vnd.jupyter.widget-view+json": {
       "model_id": "a5f37649fa05472ebdef464a7f3512a2",
       "version_major": 2,
       "version_minor": 0
      },
      "text/plain": [
       "Downloading:   0%|          | 0.00/232k [00:00<?, ?B/s]"
      ]
     },
     "metadata": {},
     "output_type": "display_data"
    },
    {
     "data": {
      "application/vnd.jupyter.widget-view+json": {
       "model_id": "add63b7e9a554da8aa6a8dc1108b883b",
       "version_major": 2,
       "version_minor": 0
      },
      "text/plain": [
       "Downloading:   0%|          | 0.00/229 [00:00<?, ?B/s]"
      ]
     },
     "metadata": {},
     "output_type": "display_data"
    }
   ],
   "source": [
    "sb_model = SentenceTransformer('bert-base-nli-mean-tokens')"
   ]
  },
  {
   "cell_type": "code",
   "execution_count": 43,
   "id": "e5aa981d",
   "metadata": {},
   "outputs": [
    {
     "data": {
      "text/plain": [
       "(768,)"
      ]
     },
     "execution_count": 43,
     "metadata": {},
     "output_type": "execute_result"
    }
   ],
   "source": [
    "sent_emb.shape"
   ]
  },
  {
   "cell_type": "code",
   "execution_count": 82,
   "id": "5904475a",
   "metadata": {},
   "outputs": [],
   "source": [
    "sb_model.save(r\"C:\\Users\\akkud\\Machine Learning Project\\bert_model\")"
   ]
  },
  {
   "cell_type": "code",
   "execution_count": 83,
   "id": "1f472d94",
   "metadata": {},
   "outputs": [],
   "source": [
    "s_model = SentenceTransformer(r\"C:\\Users\\akkud\\Machine Learning Project\\bert_model\")"
   ]
  },
  {
   "cell_type": "code",
   "execution_count": 87,
   "id": "97aa410c",
   "metadata": {},
   "outputs": [],
   "source": [
    "embedded_content = s_model.encode(content)"
   ]
  },
  {
   "cell_type": "code",
   "execution_count": 88,
   "id": "726303a1",
   "metadata": {},
   "outputs": [],
   "source": [
    "np.save('embedded_data.npy', embedded_content)"
   ]
  },
  {
   "cell_type": "code",
   "execution_count": 90,
   "id": "dd11383f",
   "metadata": {},
   "outputs": [],
   "source": [
    "np.save('class_labels.npy', list(data_all['class']))"
   ]
  },
  {
   "cell_type": "code",
   "execution_count": 91,
   "id": "aed8655e",
   "metadata": {},
   "outputs": [],
   "source": [
    "x = np.load('embedded_data.npy')\n",
    "y= np.load('class_labels.npy')"
   ]
  },
  {
   "cell_type": "code",
   "execution_count": null,
   "id": "499a0baa",
   "metadata": {},
   "outputs": [],
   "source": []
  },
  {
   "cell_type": "code",
   "execution_count": null,
   "id": "6154e619",
   "metadata": {},
   "outputs": [],
   "source": []
  }
 ],
 "metadata": {
  "kernelspec": {
   "display_name": "Python 3 (ipykernel)",
   "language": "python",
   "name": "python3"
  },
  "language_info": {
   "codemirror_mode": {
    "name": "ipython",
    "version": 3
   },
   "file_extension": ".py",
   "mimetype": "text/x-python",
   "name": "python",
   "nbconvert_exporter": "python",
   "pygments_lexer": "ipython3",
   "version": "3.9.7"
  }
 },
 "nbformat": 4,
 "nbformat_minor": 5
}
